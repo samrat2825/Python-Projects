{
 "cells": [
  {
   "cell_type": "code",
   "execution_count": 5,
   "metadata": {},
   "outputs": [],
   "source": [
    "# Import QRCode from pyqrcode \n",
    "import pyqrcode \n",
    "from pyqrcode import QRCode \n",
    "  \n",
    "  \n",
    "# String which represent the QR code \n",
    "s = \"https://play.google.com/store/apps/details?id=com.empire.cubeFall\"\n",
    "  \n",
    "# Generate QR code \n",
    "url = pyqrcode.create(s) \n",
    "  \n",
    "# Create and save the png file naming \"cubeFall.png\" \n",
    "url.svg(\"cubeFall.png\", scale = 8) \n"
   ]
  },
  {
   "cell_type": "code",
   "execution_count": null,
   "metadata": {},
   "outputs": [],
   "source": [
    "import qrcode\n",
    "import cv2\n",
    "\n",
    "img = qrcode.make('https://play.google.com/store/apps/details?id=com.empire.cubeFall')\n",
    "cv2.imshow('image',img)\n"
   ]
  },
  {
   "cell_type": "code",
   "execution_count": 19,
   "metadata": {},
   "outputs": [
    {
     "ename": "PermissionError",
     "evalue": "[Errno 13] Permission denied: 'D://'",
     "output_type": "error",
     "traceback": [
      "\u001b[1;31m---------------------------------------------------------------------------\u001b[0m",
      "\u001b[1;31mPermissionError\u001b[0m                           Traceback (most recent call last)",
      "\u001b[1;32m<ipython-input-19-3f1e0eda3150>\u001b[0m in \u001b[0;36m<module>\u001b[1;34m\u001b[0m\n\u001b[0;32m     23\u001b[0m         \u001b[0mprint\u001b[0m\u001b[1;33m(\u001b[0m\u001b[1;34m\"The expanded URL:\"\u001b[0m \u001b[1;33m+\u001b[0m \u001b[0mexpandURL\u001b[0m\u001b[1;33m)\u001b[0m\u001b[1;33m\u001b[0m\u001b[1;33m\u001b[0m\u001b[0m\n\u001b[0;32m     24\u001b[0m \u001b[1;33m\u001b[0m\u001b[0m\n\u001b[1;32m---> 25\u001b[1;33m \u001b[0mapp\u001b[0m \u001b[1;33m=\u001b[0m \u001b[0mShortening\u001b[0m\u001b[1;33m(\u001b[0m\u001b[1;33m)\u001b[0m\u001b[1;33m\u001b[0m\u001b[1;33m\u001b[0m\u001b[0m\n\u001b[0m\u001b[0;32m     26\u001b[0m \u001b[0moption\u001b[0m \u001b[1;33m=\u001b[0m \u001b[0mint\u001b[0m\u001b[1;33m(\u001b[0m\u001b[0mraw_input\u001b[0m\u001b[1;33m(\u001b[0m\u001b[1;34m\"Enter choice\"\u001b[0m\u001b[1;33m)\u001b[0m\u001b[1;33m)\u001b[0m\u001b[1;33m\u001b[0m\u001b[1;33m\u001b[0m\u001b[0m\n\u001b[0;32m     27\u001b[0m \u001b[1;33m\u001b[0m\u001b[0m\n",
      "\u001b[1;32m<ipython-input-19-3f1e0eda3150>\u001b[0m in \u001b[0;36m__init__\u001b[1;34m(self)\u001b[0m\n\u001b[0;32m      4\u001b[0m     \u001b[1;32mdef\u001b[0m \u001b[0m__init__\u001b[0m\u001b[1;33m(\u001b[0m\u001b[0mself\u001b[0m\u001b[1;33m)\u001b[0m\u001b[1;33m:\u001b[0m\u001b[1;33m\u001b[0m\u001b[1;33m\u001b[0m\u001b[0m\n\u001b[0;32m      5\u001b[0m         \u001b[0mself\u001b[0m\u001b[1;33m.\u001b[0m\u001b[0mshortener\u001b[0m \u001b[1;33m=\u001b[0m \u001b[0mShortener\u001b[0m\u001b[1;33m(\u001b[0m\u001b[1;34m'Tinyurl'\u001b[0m\u001b[1;33m)\u001b[0m\u001b[1;33m\u001b[0m\u001b[1;33m\u001b[0m\u001b[0m\n\u001b[1;32m----> 6\u001b[1;33m         \u001b[0mfo\u001b[0m \u001b[1;33m=\u001b[0m \u001b[0mopen\u001b[0m\u001b[1;33m(\u001b[0m\u001b[1;34m'D://'\u001b[0m\u001b[1;33m,\u001b[0m\u001b[1;34m'r+'\u001b[0m\u001b[1;33m)\u001b[0m\u001b[1;33m\u001b[0m\u001b[1;33m\u001b[0m\u001b[0m\n\u001b[0m\u001b[0;32m      7\u001b[0m         \u001b[0mapiKey\u001b[0m \u001b[1;33m=\u001b[0m \u001b[0mfo\u001b[0m\u001b[1;33m.\u001b[0m\u001b[0mread\u001b[0m\u001b[1;33m(\u001b[0m\u001b[1;33m)\u001b[0m\u001b[1;33m\u001b[0m\u001b[1;33m\u001b[0m\u001b[0m\n\u001b[0;32m      8\u001b[0m         \u001b[0mself\u001b[0m\u001b[1;33m.\u001b[0m\u001b[0mshortener\u001b[0m \u001b[1;33m=\u001b[0m \u001b[0mShortener\u001b[0m\u001b[1;33m(\u001b[0m\u001b[1;34m'Google'\u001b[0m\u001b[1;33m,\u001b[0m \u001b[0mapi_key\u001b[0m \u001b[1;33m=\u001b[0m \u001b[0mapiKey\u001b[0m\u001b[1;33m)\u001b[0m\u001b[1;33m\u001b[0m\u001b[1;33m\u001b[0m\u001b[0m\n",
      "\u001b[1;31mPermissionError\u001b[0m: [Errno 13] Permission denied: 'D://'"
     ]
    }
   ],
   "source": [
    "from pyshorteners import Shortener\n",
    "\n",
    "class Shortening():\n",
    "    def __init__(self):\n",
    "        self.shortener = Shortener('Tinyurl')\n",
    "        fo = open('D://','r+')\n",
    "        apiKey = fo.read()\n",
    "        self.shortener = Shortener('Google', api_key = apiKey)\n",
    "        \n",
    "    def shortenURL(self):\n",
    "        self.url = raw_input('Enter the URL to shorten:')\n",
    "        shortURL = self.shortener.short(self,url)\n",
    "        print(\"The short URL:\" + shortURL)\n",
    "        \n",
    "    def generateQRcode(self):\n",
    "        self.url = raw_input('Enter the URL to get QR Code:')\n",
    "        self.shortener.short(self,url)\n",
    "        print(sefl.shortener.qrcode(150,150))\n",
    "        \n",
    "    def decodeURL(self):\n",
    "        self.url =  raw_input('Enter the URL to Expand:')\n",
    "        expandURL = self.shortener.expand(self,url)\n",
    "        print(\"The expanded URL:\" + expandURL)\n",
    "        \n",
    "app = Shortening()\n",
    "option = int(raw_input(\"Enter choice\"))\n",
    "\n",
    "if option == 1:\n",
    "    app.shortenURL()\n",
    "elif option == 2:\n",
    "    app.decodeURL()\n",
    "else:\n",
    "    app.generateQRcode()\n",
    "    \n",
    "    "
   ]
  },
  {
   "cell_type": "code",
   "execution_count": null,
   "metadata": {},
   "outputs": [],
   "source": []
  }
 ],
 "metadata": {
  "kernelspec": {
   "display_name": "Python 3",
   "language": "python",
   "name": "python3"
  },
  "language_info": {
   "codemirror_mode": {
    "name": "ipython",
    "version": 3
   },
   "file_extension": ".py",
   "mimetype": "text/x-python",
   "name": "python",
   "nbconvert_exporter": "python",
   "pygments_lexer": "ipython3",
   "version": "3.7.1"
  }
 },
 "nbformat": 4,
 "nbformat_minor": 2
}
